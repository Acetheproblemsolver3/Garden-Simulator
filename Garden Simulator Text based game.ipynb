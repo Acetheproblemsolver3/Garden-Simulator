{
 "cells": [
  {
   "cell_type": "markdown",
   "metadata": {},
   "source": [
    "Farmers Farm"
   ]
  },
  {
   "cell_type": "markdown",
   "metadata": {},
   "source": [
    "Farmers Farm is a text base simulator game where players can find new seeds , plant them and harvest them when ready !"
   ]
  },
  {
   "cell_type": "code",
   "execution_count": 2,
   "metadata": {},
   "outputs": [],
   "source": [
    "import random"
   ]
  },
  {
   "cell_type": "code",
   "execution_count": 1,
   "metadata": {},
   "outputs": [
    {
     "ename": "IndentationError",
     "evalue": "unexpected indent (1200443686.py, line 11)",
     "output_type": "error",
     "traceback": [
      "\u001b[0;36m  Input \u001b[0;32mIn [1]\u001b[0;36m\u001b[0m\n\u001b[0;31m    if self.current_growth_stage == self.growth_stages[-1]:\u001b[0m\n\u001b[0m    ^\u001b[0m\n\u001b[0;31mIndentationError\u001b[0m\u001b[0;31m:\u001b[0m unexpected indent\n"
     ]
    }
   ],
   "source": [
    "class plant:\n",
    "    def __init__(self, name, harvest_yield):\n",
    "           self.name = name\n",
    "           self.harvest = harvest_yield\n",
    "           self.growth_stages = [\"seed\",\"sprout\",\"plant\",\"flower\",\"harvest-ready\"]\n",
    "           self.current_growth_stage = self.current_growth_stage[0]\n",
    "           self.harvestable= False\n",
    "     \n",
    "    def grow(self):\n",
    "        current_index = self.growth_stages.index(self.current_growth_stage)\n",
    "          if self.current_growth_stage == self.growth_stages[-1]:\n",
    "            print(f\"{self.name} is already fully grown!\")\n",
    "        elif current_index < len(self.growth_stages)- 1:\n",
    "            self.current_growth_stage = self.growth_stages[current_index + 1]\n",
    "            if self.current_growth_stage == \"harvest-ready\":\n",
    "                self.harvestable = True\n",
    "   \n",
    "    def harvest(self):\n",
    "        if self.harvestable:\n",
    "            self.harvestable = False\n",
    "            return self.harvest_yield\n",
    "        else:\n",
    "            return None\n",
    "        \n",
    "    "
   ]
  },
  {
   "cell_type": "code",
   "execution_count": 8,
   "metadata": {},
   "outputs": [
    {
     "ename": "NameError",
     "evalue": "name 'Plant' is not defined",
     "output_type": "error",
     "traceback": [
      "\u001b[0;31m---------------------------------------------------------------------------\u001b[0m",
      "\u001b[0;31mNameError\u001b[0m                                 Traceback (most recent call last)",
      "Input \u001b[0;32mIn [8]\u001b[0m, in \u001b[0;36m<cell line: 1>\u001b[0;34m()\u001b[0m\n\u001b[0;32m----> 1\u001b[0m \u001b[38;5;28;01mclass\u001b[39;00m \u001b[38;5;21;01mTomato\u001b[39;00m(\u001b[43mPlant\u001b[49m):\n\u001b[1;32m      2\u001b[0m     \u001b[38;5;28;01mdef\u001b[39;00m \u001b[38;5;21m__init__\u001b[39m(\u001b[38;5;28mself\u001b[39m):\n\u001b[1;32m      3\u001b[0m         \u001b[38;5;28msuper\u001b[39m()\u001b[38;5;241m.\u001b[39m\u001b[38;5;21m__init__\u001b[39m(\u001b[38;5;124m\"\u001b[39m\u001b[38;5;124mTomato\u001b[39m\u001b[38;5;124m\"\u001b[39m, \u001b[38;5;241m10\u001b[39m)\n",
      "\u001b[0;31mNameError\u001b[0m: name 'Plant' is not defined"
     ]
    }
   ],
   "source": [
    "class Tomato(Plant):\n",
    "    def __init__(self):\n",
    "        super().__init__(\"Tomato\", 10)\n",
    "\n",
    "class Lettuce(Plant):\n",
    "    def __init__(self):\n",
    "        super().__init__(\"Lettuce\", 5)\n",
    "        self.growth_stages = [\"seed\", \"sprout\", \"mature\", \"harvest-ready\"]\n",
    "\n",
    "class Carrot(Plant):\n",
    "    def __init__(self):\n",
    "        super().__init__(\"Carrot\", 8)\n",
    "        self.growth_stages = [\"seed\", \"sprout\", \"mature\", \"harvest-ready\"]"
   ]
  },
  {
   "cell_type": "code",
   "execution_count": 9,
   "metadata": {},
   "outputs": [],
   "source": [
    "def select_item(items):\n",
    "    # Determine if items is a dictionary or a list\n",
    "    if type(items) == dict:\n",
    "        item_list = list(items.keys())\n",
    "    elif type(items) == list:\n",
    "        item_list = items\n",
    "    else:\n",
    "        print(\"Invalid items type.\")\n",
    "        return None\n",
    "    # Print out the items\n",
    "    for i in range(len(item_list)):\n",
    "        try:\n",
    "            item_name = item_list[i].name\n",
    "        except:\n",
    "            item_name = item_list[i]\n",
    "        print(f\"{i + 1}. {item_name}\")\n",
    "\n",
    "    # Get user input\n",
    "    while True:\n",
    "        user_input = input(\"Select an item: \")\n",
    "        try:\n",
    "            user_input = int(user_input)\n",
    "            if 0 < user_input <= len(item_list):\n",
    "                return item_list[user_input - 1]\n",
    "            else:\n",
    "                print(\"Invalid input.\")\n",
    "        except:\n",
    "            print(\"Invalid input.\")"
   ]
  },
  {
   "cell_type": "code",
   "execution_count": 10,
   "metadata": {},
   "outputs": [
    {
     "ename": "NameError",
     "evalue": "name 'Tomato' is not defined",
     "output_type": "error",
     "traceback": [
      "\u001b[0;31m---------------------------------------------------------------------------\u001b[0m",
      "\u001b[0;31mNameError\u001b[0m                                 Traceback (most recent call last)",
      "Input \u001b[0;32mIn [10]\u001b[0m, in \u001b[0;36m<cell line: 1>\u001b[0;34m()\u001b[0m\n\u001b[0;32m----> 1\u001b[0m \u001b[38;5;28;01mclass\u001b[39;00m \u001b[38;5;21;01mGardener\u001b[39;00m:\n\u001b[1;32m      2\u001b[0m     \u001b[38;5;124;03m\"\"\"Represents a gardener who can plant and harvest plants.\"\"\"\u001b[39;00m\n\u001b[1;32m      4\u001b[0m     plant_dict \u001b[38;5;241m=\u001b[39m {\u001b[38;5;124m\"\u001b[39m\u001b[38;5;124mtomato\u001b[39m\u001b[38;5;124m\"\u001b[39m: Tomato, \u001b[38;5;124m\"\u001b[39m\u001b[38;5;124mlettuce\u001b[39m\u001b[38;5;124m\"\u001b[39m: Lettuce, \u001b[38;5;124m\"\u001b[39m\u001b[38;5;124mcarrot\u001b[39m\u001b[38;5;124m\"\u001b[39m: Carrot}\n",
      "Input \u001b[0;32mIn [10]\u001b[0m, in \u001b[0;36mGardener\u001b[0;34m()\u001b[0m\n\u001b[1;32m      1\u001b[0m \u001b[38;5;28;01mclass\u001b[39;00m \u001b[38;5;21;01mGardener\u001b[39;00m:\n\u001b[1;32m      2\u001b[0m     \u001b[38;5;124;03m\"\"\"Represents a gardener who can plant and harvest plants.\"\"\"\u001b[39;00m\n\u001b[0;32m----> 4\u001b[0m     plant_dict \u001b[38;5;241m=\u001b[39m {\u001b[38;5;124m\"\u001b[39m\u001b[38;5;124mtomato\u001b[39m\u001b[38;5;124m\"\u001b[39m: \u001b[43mTomato\u001b[49m, \u001b[38;5;124m\"\u001b[39m\u001b[38;5;124mlettuce\u001b[39m\u001b[38;5;124m\"\u001b[39m: Lettuce, \u001b[38;5;124m\"\u001b[39m\u001b[38;5;124mcarrot\u001b[39m\u001b[38;5;124m\"\u001b[39m: Carrot}\n\u001b[1;32m      6\u001b[0m     \u001b[38;5;28;01mdef\u001b[39;00m \u001b[38;5;21m__init__\u001b[39m(\u001b[38;5;28mself\u001b[39m, name):\n\u001b[1;32m      7\u001b[0m         \u001b[38;5;28mself\u001b[39m\u001b[38;5;241m.\u001b[39mname \u001b[38;5;241m=\u001b[39m name\n",
      "\u001b[0;31mNameError\u001b[0m: name 'Tomato' is not defined"
     ]
    }
   ],
   "source": [
    "class Gardener:\n",
    "    \"\"\"Represents a gardener who can plant and harvest plants.\"\"\"\n",
    "\n",
    "    plant_dict = {\"tomato\": Tomato, \"lettuce\": Lettuce, \"carrot\": Carrot}\n",
    "\n",
    "    def __init__(self, name):\n",
    "        self.name = name\n",
    "        self.planted_plants = []\n",
    "        self.inventory = {}\n",
    "\n",
    "    def plant(self):\n",
    "        selected_plant = select_item(self.inventory)\n",
    "        if selected_plant in self.inventory and self.inventory[selected_plant] > 0:\n",
    "            self.inventory[selected_plant] -= 1\n",
    "            if self.inventory[selected_plant] == 0:\n",
    "                del self.inventory[selected_plant]\n",
    "            new_plant = self.plant_dict[selected_plant]()\n",
    "            self.planted_plants.append(new_plant)\n",
    "            print(f\"{self.name} planted a {selected_plant}!\")\n",
    "        else:\n",
    "            print(f\"{self.name} doesn't have any {selected_plant} to plant!\")\n",
    "\n",
    "    def tend(self):\n",
    "        for plant in self.planted_plants:\n",
    "            if plant.harvestable:\n",
    "                print(f\"{plant.name} is ready to be harvested!\")\n",
    "            else:\n",
    "                plant.grow()\n",
    "                print(f\"{plant.name} is now a {plant.current_growth_stage}!\")\n",
    "    \n",
    "    def harvest(self):\n",
    "        selected_plant = select_item(self.planted_plants)\n",
    "        if selected_plant.harvestable == True:\n",
    "            if selected_plant.name in self.inventory:\n",
    "                self.inventory[selected_plant.name] += selected_plant.harvest()\n",
    "            else:\n",
    "                self.inventory[selected_plant.name] = selected_plant.harvest()\n",
    "            print(f\"You harvested a {selected_plant.name}!\")\n",
    "            self.planted_plants.remove(selected_plant)\n",
    "        else:\n",
    "            print(f\"You can't harvest a {selected_plant.name}!\")\n",
    "\n",
    "    def forage_for_seeds(self):\n",
    "        seed = random.choice(all_plant_types)\n",
    "        if seed in self.inventory:\n",
    "            self.inventory[seed] += 1\n",
    "        else:\n",
    "            self.inventory[seed] = 1\n",
    "        print(f\"{self.name} found a {seed} seed!\")\n"
   ]
  },
  {
   "cell_type": "code",
   "execution_count": 11,
   "metadata": {},
   "outputs": [
    {
     "name": "stdout",
     "output_type": "stream",
     "text": [
      "Welcome to the garden! You will act as a virtual gardener.\n",
      "Forage for new seeds, plant them, and then watch them grow!\n",
      "Start by entering your name.\n"
     ]
    },
    {
     "name": "stdin",
     "output_type": "stream",
     "text": [
      "What is your name?  Asrock\n"
     ]
    },
    {
     "name": "stdout",
     "output_type": "stream",
     "text": [
      "Welcome, Asrock! Let's get gardening!\n",
      "Type 'help' for a list of commands.\n"
     ]
    },
    {
     "ename": "NameError",
     "evalue": "name 'Gardener' is not defined",
     "output_type": "error",
     "traceback": [
      "\u001b[0;31m---------------------------------------------------------------------------\u001b[0m",
      "\u001b[0;31mNameError\u001b[0m                                 Traceback (most recent call last)",
      "Input \u001b[0;32mIn [11]\u001b[0m, in \u001b[0;36m<cell line: 10>\u001b[0;34m()\u001b[0m\n\u001b[1;32m      8\u001b[0m gardener_name \u001b[38;5;241m=\u001b[39m \u001b[38;5;28minput\u001b[39m(\u001b[38;5;124m\"\u001b[39m\u001b[38;5;124mWhat is your name? \u001b[39m\u001b[38;5;124m\"\u001b[39m)\n\u001b[1;32m      9\u001b[0m \u001b[38;5;28mprint\u001b[39m(\u001b[38;5;124mf\u001b[39m\u001b[38;5;124m\"\u001b[39m\u001b[38;5;124mWelcome, \u001b[39m\u001b[38;5;132;01m{\u001b[39;00mgardener_name\u001b[38;5;132;01m}\u001b[39;00m\u001b[38;5;124m! Let\u001b[39m\u001b[38;5;124m'\u001b[39m\u001b[38;5;124ms get gardening!\u001b[39m\u001b[38;5;130;01m\\n\u001b[39;00m\u001b[38;5;124mType \u001b[39m\u001b[38;5;124m'\u001b[39m\u001b[38;5;124mhelp\u001b[39m\u001b[38;5;124m'\u001b[39m\u001b[38;5;124m for a list of commands.\u001b[39m\u001b[38;5;124m\"\u001b[39m)\n\u001b[0;32m---> 10\u001b[0m gardener \u001b[38;5;241m=\u001b[39m \u001b[43mGardener\u001b[49m(gardener_name)\n",
      "\u001b[0;31mNameError\u001b[0m: name 'Gardener' is not defined"
     ]
    }
   ],
   "source": [
    "all_plant_types = [\"tomato\", \"lettuce\", \"carrot\"]\n",
    "valid_commands = [\"plant\", \"tend\", \"harvest\", \"forage\", \"help\", \"quit\"]\n",
    "\n",
    "# Print welcome message\n",
    "print(\"Welcome to the garden! You will act as a virtual gardener.\\nForage for new seeds, plant them, and then watch them grow!\\nStart by entering your name.\")\n",
    "\n",
    "# Create gardener\n",
    "gardener_name = input(\"What is your name? \")\n",
    "print(f\"Welcome, {gardener_name}! Let's get gardening!\\nType 'help' for a list of commands.\")\n",
    "gardener = Gardener(gardener_name)"
   ]
  },
  {
   "cell_type": "code",
   "execution_count": 12,
   "metadata": {},
   "outputs": [
    {
     "name": "stdin",
     "output_type": "stream",
     "text": [
      "What would you like to do?  plant\n"
     ]
    },
    {
     "ename": "NameError",
     "evalue": "name 'gardener' is not defined",
     "output_type": "error",
     "traceback": [
      "\u001b[0;31m---------------------------------------------------------------------------\u001b[0m",
      "\u001b[0;31mNameError\u001b[0m                                 Traceback (most recent call last)",
      "Input \u001b[0;32mIn [12]\u001b[0m, in \u001b[0;36m<cell line: 1>\u001b[0;34m()\u001b[0m\n\u001b[1;32m      4\u001b[0m \u001b[38;5;28;01mif\u001b[39;00m player_action \u001b[38;5;129;01min\u001b[39;00m valid_commands:\n\u001b[1;32m      5\u001b[0m     \u001b[38;5;28;01mif\u001b[39;00m player_action \u001b[38;5;241m==\u001b[39m \u001b[38;5;124m\"\u001b[39m\u001b[38;5;124mplant\u001b[39m\u001b[38;5;124m\"\u001b[39m:\n\u001b[0;32m----> 6\u001b[0m         \u001b[43mgardener\u001b[49m\u001b[38;5;241m.\u001b[39mplant()\n\u001b[1;32m      7\u001b[0m     \u001b[38;5;28;01melif\u001b[39;00m player_action \u001b[38;5;241m==\u001b[39m \u001b[38;5;124m\"\u001b[39m\u001b[38;5;124mtend\u001b[39m\u001b[38;5;124m\"\u001b[39m:\n\u001b[1;32m      8\u001b[0m         gardener\u001b[38;5;241m.\u001b[39mtend()\n",
      "\u001b[0;31mNameError\u001b[0m: name 'gardener' is not defined"
     ]
    }
   ],
   "source": [
    "while True:\n",
    "    player_action = input(\"What would you like to do? \")\n",
    "    player_action = player_action.lower()\n",
    "    if player_action in valid_commands:\n",
    "        if player_action == \"plant\":\n",
    "            gardener.plant()\n",
    "        elif player_action == \"tend\":\n",
    "            gardener.tend()\n",
    "        elif player_action == \"harvest\":\n",
    "            gardener.harvest()\n",
    "        elif player_action == \"forage\":\n",
    "            gardener.forage_for_seeds()\n",
    "        elif player_action == \"help\":\n",
    "            print(\"*** Commands ***\")\n",
    "            for command in valid_commands:\n",
    "                print(command)\n",
    "        elif player_action == \"quit\":\n",
    "            print(\"Goodbye!\")\n",
    "            break\n",
    "    else:\n",
    "        print(\"Invalid command.\")"
   ]
  },
  {
   "cell_type": "code",
   "execution_count": null,
   "metadata": {},
   "outputs": [],
   "source": []
  }
 ],
 "metadata": {
  "kernelspec": {
   "display_name": "Python 3 (ipykernel)",
   "language": "python",
   "name": "python3"
  },
  "language_info": {
   "codemirror_mode": {
    "name": "ipython",
    "version": 3
   },
   "file_extension": ".py",
   "mimetype": "text/x-python",
   "name": "python",
   "nbconvert_exporter": "python",
   "pygments_lexer": "ipython3",
   "version": "3.10.6"
  }
 },
 "nbformat": 4,
 "nbformat_minor": 4
}
